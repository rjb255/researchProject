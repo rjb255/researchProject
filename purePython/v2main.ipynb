{
 "cells": [
  {
   "cell_type": "markdown",
   "metadata": {},
   "source": [
    "# Still Can't Decide Between Modules and Jupyter"
   ]
  },
  {
   "cell_type": "markdown",
   "metadata": {},
   "source": [
    "## Libraries"
   ]
  },
  {
   "cell_type": "code",
   "execution_count": 1,
   "metadata": {},
   "outputs": [],
   "source": [
    "#%% Libraries\n",
    "# # Standard Libraries\n",
    "from os import path\n",
    "from pathlib import Path\n",
    "from pprint import pprint\n",
    "import asyncio as asyncio\n",
    "\n",
    "# External Libraries\n",
    "from IPython.display import display\n",
    "import numpy as np\n",
    "import pandas as pd\n",
    "from scipy.spatial import KDTree\n",
    "from sklearn.linear_model import BayesianRidge as BR\n",
    "from sklearn.neighbors import KNeighborsRegressor as KNN\n",
    "from sklearn.ensemble import RandomForestRegressor as RFR\n",
    "from sklearn.model_selection import cross_validate\n",
    "from sklearn.metrics import mean_squared_error as mse\n",
    "import statistics as stats\n",
    "import matplotlib.pylab as mlt\n",
    "\n",
    "# Custom Libraries\n",
    "from modules.shared.custom import split, getPI"
   ]
  },
  {
   "cell_type": "markdown",
   "metadata": {},
   "source": [
    "## Collection"
   ]
  },
  {
   "cell_type": "code",
   "execution_count": 2,
   "metadata": {},
   "outputs": [
    {
     "data": {
      "text/html": [
       "<div>\n",
       "<style scoped>\n",
       "    .dataframe tbody tr th:only-of-type {\n",
       "        vertical-align: middle;\n",
       "    }\n",
       "\n",
       "    .dataframe tbody tr th {\n",
       "        vertical-align: top;\n",
       "    }\n",
       "\n",
       "    .dataframe thead th {\n",
       "        text-align: right;\n",
       "    }\n",
       "</style>\n",
       "<table border=\"1\" class=\"dataframe\">\n",
       "  <thead>\n",
       "    <tr style=\"text-align: right;\">\n",
       "      <th></th>\n",
       "      <th>molecule_id</th>\n",
       "      <th>pXC50</th>\n",
       "      <th>b0001</th>\n",
       "      <th>b0002</th>\n",
       "      <th>b0003</th>\n",
       "      <th>b0004</th>\n",
       "      <th>b0005</th>\n",
       "      <th>b0006</th>\n",
       "      <th>b0007</th>\n",
       "      <th>b0008</th>\n",
       "      <th>...</th>\n",
       "      <th>b1015</th>\n",
       "      <th>b1016</th>\n",
       "      <th>b1017</th>\n",
       "      <th>b1018</th>\n",
       "      <th>b1019</th>\n",
       "      <th>b1020</th>\n",
       "      <th>b1021</th>\n",
       "      <th>b1022</th>\n",
       "      <th>b1023</th>\n",
       "      <th>b1024</th>\n",
       "    </tr>\n",
       "  </thead>\n",
       "  <tbody>\n",
       "    <tr>\n",
       "      <th>160</th>\n",
       "      <td>CHEMBL116431</td>\n",
       "      <td>7.319</td>\n",
       "      <td>1</td>\n",
       "      <td>0</td>\n",
       "      <td>1</td>\n",
       "      <td>0</td>\n",
       "      <td>1</td>\n",
       "      <td>0</td>\n",
       "      <td>1</td>\n",
       "      <td>0</td>\n",
       "      <td>...</td>\n",
       "      <td>0</td>\n",
       "      <td>1</td>\n",
       "      <td>1</td>\n",
       "      <td>0</td>\n",
       "      <td>0</td>\n",
       "      <td>0</td>\n",
       "      <td>0</td>\n",
       "      <td>1</td>\n",
       "      <td>0</td>\n",
       "      <td>0</td>\n",
       "    </tr>\n",
       "    <tr>\n",
       "      <th>2601</th>\n",
       "      <td>CHEMBL422203</td>\n",
       "      <td>6.897</td>\n",
       "      <td>1</td>\n",
       "      <td>0</td>\n",
       "      <td>1</td>\n",
       "      <td>0</td>\n",
       "      <td>1</td>\n",
       "      <td>0</td>\n",
       "      <td>1</td>\n",
       "      <td>0</td>\n",
       "      <td>...</td>\n",
       "      <td>0</td>\n",
       "      <td>0</td>\n",
       "      <td>0</td>\n",
       "      <td>0</td>\n",
       "      <td>0</td>\n",
       "      <td>0</td>\n",
       "      <td>0</td>\n",
       "      <td>0</td>\n",
       "      <td>0</td>\n",
       "      <td>0</td>\n",
       "    </tr>\n",
       "    <tr>\n",
       "      <th>3257</th>\n",
       "      <td>CHEMBL59871</td>\n",
       "      <td>6.481</td>\n",
       "      <td>1</td>\n",
       "      <td>0</td>\n",
       "      <td>1</td>\n",
       "      <td>0</td>\n",
       "      <td>1</td>\n",
       "      <td>0</td>\n",
       "      <td>1</td>\n",
       "      <td>0</td>\n",
       "      <td>...</td>\n",
       "      <td>0</td>\n",
       "      <td>0</td>\n",
       "      <td>1</td>\n",
       "      <td>0</td>\n",
       "      <td>0</td>\n",
       "      <td>0</td>\n",
       "      <td>1</td>\n",
       "      <td>0</td>\n",
       "      <td>0</td>\n",
       "      <td>0</td>\n",
       "    </tr>\n",
       "    <tr>\n",
       "      <th>1847</th>\n",
       "      <td>CHEMBL301938</td>\n",
       "      <td>7.317</td>\n",
       "      <td>1</td>\n",
       "      <td>0</td>\n",
       "      <td>1</td>\n",
       "      <td>0</td>\n",
       "      <td>1</td>\n",
       "      <td>0</td>\n",
       "      <td>0</td>\n",
       "      <td>0</td>\n",
       "      <td>...</td>\n",
       "      <td>0</td>\n",
       "      <td>0</td>\n",
       "      <td>1</td>\n",
       "      <td>1</td>\n",
       "      <td>0</td>\n",
       "      <td>0</td>\n",
       "      <td>0</td>\n",
       "      <td>0</td>\n",
       "      <td>0</td>\n",
       "      <td>0</td>\n",
       "    </tr>\n",
       "    <tr>\n",
       "      <th>891</th>\n",
       "      <td>CHEMBL186140</td>\n",
       "      <td>9.301</td>\n",
       "      <td>1</td>\n",
       "      <td>0</td>\n",
       "      <td>1</td>\n",
       "      <td>0</td>\n",
       "      <td>1</td>\n",
       "      <td>1</td>\n",
       "      <td>0</td>\n",
       "      <td>0</td>\n",
       "      <td>...</td>\n",
       "      <td>0</td>\n",
       "      <td>0</td>\n",
       "      <td>1</td>\n",
       "      <td>0</td>\n",
       "      <td>1</td>\n",
       "      <td>0</td>\n",
       "      <td>0</td>\n",
       "      <td>0</td>\n",
       "      <td>0</td>\n",
       "      <td>0</td>\n",
       "    </tr>\n",
       "    <tr>\n",
       "      <th>...</th>\n",
       "      <td>...</td>\n",
       "      <td>...</td>\n",
       "      <td>...</td>\n",
       "      <td>...</td>\n",
       "      <td>...</td>\n",
       "      <td>...</td>\n",
       "      <td>...</td>\n",
       "      <td>...</td>\n",
       "      <td>...</td>\n",
       "      <td>...</td>\n",
       "      <td>...</td>\n",
       "      <td>...</td>\n",
       "      <td>...</td>\n",
       "      <td>...</td>\n",
       "      <td>...</td>\n",
       "      <td>...</td>\n",
       "      <td>...</td>\n",
       "      <td>...</td>\n",
       "      <td>...</td>\n",
       "      <td>...</td>\n",
       "      <td>...</td>\n",
       "    </tr>\n",
       "    <tr>\n",
       "      <th>764</th>\n",
       "      <td>CHEMBL1743805</td>\n",
       "      <td>6.730</td>\n",
       "      <td>1</td>\n",
       "      <td>0</td>\n",
       "      <td>0</td>\n",
       "      <td>0</td>\n",
       "      <td>1</td>\n",
       "      <td>1</td>\n",
       "      <td>0</td>\n",
       "      <td>0</td>\n",
       "      <td>...</td>\n",
       "      <td>0</td>\n",
       "      <td>0</td>\n",
       "      <td>0</td>\n",
       "      <td>0</td>\n",
       "      <td>0</td>\n",
       "      <td>0</td>\n",
       "      <td>0</td>\n",
       "      <td>0</td>\n",
       "      <td>0</td>\n",
       "      <td>0</td>\n",
       "    </tr>\n",
       "    <tr>\n",
       "      <th>599</th>\n",
       "      <td>CHEMBL159442</td>\n",
       "      <td>6.510</td>\n",
       "      <td>1</td>\n",
       "      <td>0</td>\n",
       "      <td>1</td>\n",
       "      <td>0</td>\n",
       "      <td>1</td>\n",
       "      <td>1</td>\n",
       "      <td>1</td>\n",
       "      <td>0</td>\n",
       "      <td>...</td>\n",
       "      <td>0</td>\n",
       "      <td>0</td>\n",
       "      <td>0</td>\n",
       "      <td>0</td>\n",
       "      <td>0</td>\n",
       "      <td>0</td>\n",
       "      <td>0</td>\n",
       "      <td>0</td>\n",
       "      <td>0</td>\n",
       "      <td>0</td>\n",
       "    </tr>\n",
       "    <tr>\n",
       "      <th>251</th>\n",
       "      <td>CHEMBL124818</td>\n",
       "      <td>7.502</td>\n",
       "      <td>1</td>\n",
       "      <td>0</td>\n",
       "      <td>1</td>\n",
       "      <td>0</td>\n",
       "      <td>1</td>\n",
       "      <td>1</td>\n",
       "      <td>0</td>\n",
       "      <td>0</td>\n",
       "      <td>...</td>\n",
       "      <td>0</td>\n",
       "      <td>0</td>\n",
       "      <td>1</td>\n",
       "      <td>0</td>\n",
       "      <td>0</td>\n",
       "      <td>0</td>\n",
       "      <td>0</td>\n",
       "      <td>0</td>\n",
       "      <td>0</td>\n",
       "      <td>0</td>\n",
       "    </tr>\n",
       "    <tr>\n",
       "      <th>1888</th>\n",
       "      <td>CHEMBL311177</td>\n",
       "      <td>5.384</td>\n",
       "      <td>1</td>\n",
       "      <td>0</td>\n",
       "      <td>1</td>\n",
       "      <td>0</td>\n",
       "      <td>1</td>\n",
       "      <td>0</td>\n",
       "      <td>0</td>\n",
       "      <td>0</td>\n",
       "      <td>...</td>\n",
       "      <td>0</td>\n",
       "      <td>0</td>\n",
       "      <td>1</td>\n",
       "      <td>0</td>\n",
       "      <td>0</td>\n",
       "      <td>0</td>\n",
       "      <td>0</td>\n",
       "      <td>0</td>\n",
       "      <td>0</td>\n",
       "      <td>0</td>\n",
       "    </tr>\n",
       "    <tr>\n",
       "      <th>220</th>\n",
       "      <td>CHEMBL1214769</td>\n",
       "      <td>7.213</td>\n",
       "      <td>1</td>\n",
       "      <td>0</td>\n",
       "      <td>1</td>\n",
       "      <td>0</td>\n",
       "      <td>1</td>\n",
       "      <td>0</td>\n",
       "      <td>0</td>\n",
       "      <td>0</td>\n",
       "      <td>...</td>\n",
       "      <td>0</td>\n",
       "      <td>0</td>\n",
       "      <td>0</td>\n",
       "      <td>0</td>\n",
       "      <td>0</td>\n",
       "      <td>0</td>\n",
       "      <td>1</td>\n",
       "      <td>0</td>\n",
       "      <td>0</td>\n",
       "      <td>0</td>\n",
       "    </tr>\n",
       "  </tbody>\n",
       "</table>\n",
       "<p>3527 rows × 1026 columns</p>\n",
       "</div>"
      ],
      "text/plain": [
       "        molecule_id  pXC50  b0001  b0002  b0003  b0004  b0005  b0006  b0007  \\\n",
       "160    CHEMBL116431  7.319      1      0      1      0      1      0      1   \n",
       "2601   CHEMBL422203  6.897      1      0      1      0      1      0      1   \n",
       "3257    CHEMBL59871  6.481      1      0      1      0      1      0      1   \n",
       "1847   CHEMBL301938  7.317      1      0      1      0      1      0      0   \n",
       "891    CHEMBL186140  9.301      1      0      1      0      1      1      0   \n",
       "...             ...    ...    ...    ...    ...    ...    ...    ...    ...   \n",
       "764   CHEMBL1743805  6.730      1      0      0      0      1      1      0   \n",
       "599    CHEMBL159442  6.510      1      0      1      0      1      1      1   \n",
       "251    CHEMBL124818  7.502      1      0      1      0      1      1      0   \n",
       "1888   CHEMBL311177  5.384      1      0      1      0      1      0      0   \n",
       "220   CHEMBL1214769  7.213      1      0      1      0      1      0      0   \n",
       "\n",
       "      b0008  ...  b1015  b1016  b1017  b1018  b1019  b1020  b1021  b1022  \\\n",
       "160       0  ...      0      1      1      0      0      0      0      1   \n",
       "2601      0  ...      0      0      0      0      0      0      0      0   \n",
       "3257      0  ...      0      0      1      0      0      0      1      0   \n",
       "1847      0  ...      0      0      1      1      0      0      0      0   \n",
       "891       0  ...      0      0      1      0      1      0      0      0   \n",
       "...     ...  ...    ...    ...    ...    ...    ...    ...    ...    ...   \n",
       "764       0  ...      0      0      0      0      0      0      0      0   \n",
       "599       0  ...      0      0      0      0      0      0      0      0   \n",
       "251       0  ...      0      0      1      0      0      0      0      0   \n",
       "1888      0  ...      0      0      1      0      0      0      0      0   \n",
       "220       0  ...      0      0      0      0      0      0      1      0   \n",
       "\n",
       "      b1023  b1024  \n",
       "160       0      0  \n",
       "2601      0      0  \n",
       "3257      0      0  \n",
       "1847      0      0  \n",
       "891       0      0  \n",
       "...     ...    ...  \n",
       "764       0      0  \n",
       "599       0      0  \n",
       "251       0      0  \n",
       "1888      0      0  \n",
       "220       0      0  \n",
       "\n",
       "[3527 rows x 1026 columns]"
      ]
     },
     "metadata": {},
     "output_type": "display_data"
    }
   ],
   "source": [
    "# Just getting datasets\n",
    "dataRoute = '../data/chembl/Additional_datasets/'\n",
    "paths = ['data_CHEMBL313.csv', 'data_CHEMBL2637.csv', 'data_CHEMBL4124.csv']\n",
    "dataSets = [pd.read_csv(dataRoute + path) for path in paths]\n",
    "data = dataSets[0].sample(frac=1)\n",
    "display(data)"
   ]
  },
  {
   "cell_type": "code",
   "execution_count": 3,
   "metadata": {},
   "outputs": [],
   "source": [
    "def reduceTree(std: np.ndarray, X_unknown: pd.DataFrame, r: int):\n",
    "    tree = KDTree(X_unknown.values)\n",
    "    indicies = tree.query_ball_point(np.array(X_unknown), r, workers=-1)\n",
    "    sdev = [std[i] for i in indicies]\n",
    "    sdevMax = [max(s) for s in sdev]\n",
    "    return np.where(sdevMax == std)[0]"
   ]
  },
  {
   "cell_type": "code",
   "execution_count": 4,
   "metadata": {},
   "outputs": [],
   "source": [
    "class Models:\n",
    "    \"\"\" Creating a new model as an amalgamation of other models\n",
    "    \"\"\"\n",
    "    def __init__(self, m: list):\n",
    "        \"\"\"Defining the underlying models used\n",
    "\n",
    "        Args:\n",
    "            m (list): A list of models to be used in concert with each other\n",
    "        \"\"\"\n",
    "        self.models = m\n",
    "\n",
    "    def fit(self, X, Y, *args):\n",
    "        self.trainedModels = [m.fit(X, Y, *args) for m in self.models]\n",
    "\n",
    "    def predict(self, X, *args):\n",
    "        return np.mean([m.predict(X, *args) for m in self.trainedModels], axis = 0)\n",
    "\n",
    "    def predict_error(self, X, *args):\n",
    "        predictions = [m.predict(X, *args) for m in self.trainedModels]\n",
    "        mean = np.mean(predictions, axis=0)\n",
    "        std =  np.std(predictions, axis=0, ddof=1)\n",
    "        return mean, std\n",
    "        \n",
    "\n",
    "def validate(y_true, y_false):\n",
    "    return mse(y_true, y_false, sample_weight=y_true)"
   ]
  },
  {
   "cell_type": "markdown",
   "metadata": {},
   "source": [
    "## Models and Basics Set-up"
   ]
  },
  {
   "cell_type": "code",
   "execution_count": 5,
   "metadata": {},
   "outputs": [],
   "source": [
    "# Splitting up the data\n",
    "X_known, Y_known, X_unknown, Y_unknown, X_test, Y_test = split(data, 160)\n",
    "\n",
    "# Each testing stage can test 160 cases and up to 2000 samples will be tested\n",
    "testSize = 160\n",
    "maxSamples = len(Y_unknown)\n",
    "\n",
    "# models to be used and pre-defining variables\n",
    "models = Models([BR(), KNN(n_jobs=-1), RFR(random_state=1)])\n",
    "predicitions: list\n",
    "scores: list\n",
    "smartScores: list\n",
    "tree: KDTree"
   ]
  },
  {
   "cell_type": "markdown",
   "metadata": {},
   "source": [
    "## Assessment"
   ]
  },
  {
   "cell_type": "markdown",
   "metadata": {},
   "source": [
    "## Script"
   ]
  },
  {
   "cell_type": "code",
   "execution_count": 6,
   "metadata": {},
   "outputs": [
    {
     "name": "stdout",
     "output_type": "stream",
     "text": [
      "2880.2 out of 3014"
     ]
    }
   ],
   "source": [
    "r = 6\n",
    "runningScore = []\n",
    "for i in range(0, maxSamples, testSize):\n",
    "    print(f'\\r{i}.2 out of {maxSamples}', end=\"\")\n",
    "\n",
    "    models.fit(X_known, Y_known)\n",
    "    pred, err = models.predict_error(X_unknown)\n",
    "    index = reduceTree(err, X_unknown, r)\n",
    "    if len(index)>min(160, len(X_unknown)):\n",
    "        index = index[:min(160, len(X_unknown))]\n",
    "    else:\n",
    "        semi = np.argpartition(err, -min(len(X_unknown), testSize))[-min(len(X_unknown), testSize):]\n",
    "\n",
    "        semi = semi[np.invert(np.isin(semi, index))]\n",
    "        index = np.array(list(index) + list((semi[np.argsort(err[semi])])[len(index)-min(len(X_unknown), testSize):]))\n",
    "        \n",
    "    index2 = X_unknown.iloc[index[:min(testSize, len(X_unknown))]].index\n",
    "    score = validate(models.predict(X_test), Y_test)\n",
    "    runningScore.append(score)\n",
    "    X_known, Y_known, X_unknown, Y_unknown = getPI((X_known, Y_known), (X_unknown, Y_unknown), index2[:testSize])   "
   ]
  },
  {
   "cell_type": "code",
   "execution_count": 7,
   "metadata": {},
   "outputs": [
    {
     "data": {
      "text/plain": [
       "[<matplotlib.lines.Line2D at 0x7f591db3f4c0>]"
      ]
     },
     "execution_count": 7,
     "metadata": {},
     "output_type": "execute_result"
    },
    {
     "data": {
      "image/png": "[encoded data removed]",
      "text/plain": [
       "<Figure size 432x288 with 1 Axes>"
      ]
     },
     "metadata": {},
     "output_type": "display_data"
    }
   ],
   "source": [
    "mlt.plot(runningScore)"
   ]
  },
  {
   "cell_type": "code",
   "execution_count": 8,
   "metadata": {},
   "outputs": [
    {
     "data": {
      "text/plain": [
       "<matplotlib.image.AxesImage at 0x7f59164079d0>"
      ]
     },
     "execution_count": 8,
     "metadata": {},
     "output_type": "execute_result"
    },
    {
     "data": {
      "image/png": "[encoded data removed]",
      "text/plain": [
       "<Figure size 432x288 with 1 Axes>"
      ]
     },
     "metadata": {},
     "output_type": "display_data"
    }
   ],
   "source": [
    "import matplotlib.image as mpimg\n",
    "import matplotlib.pyplot as plt\n",
    "A = np.array(data.drop(columns=[\"pXC50\", \"molecule_id\"]))\n",
    "plt.imshow(np.transpose(A))\n"
   ]
  },
  {
   "cell_type": "markdown",
   "metadata": {},
   "source": [
    "## Baseline"
   ]
  },
  {
   "cell_type": "code",
   "execution_count": 9,
   "metadata": {},
   "outputs": [
    {
     "name": "stdout",
     "output_type": "stream",
     "text": [
      "2880.2 out of 3014"
     ]
    }
   ],
   "source": [
    "X_known, Y_known, X_unknown, Y_unknown, X_test, Y_test = split(data, 160)\n",
    "\n",
    "runningScore = []\n",
    "for i in range(0, maxSamples, testSize):\n",
    "    print(f'\\r{i}.2 out of {maxSamples}', end=\"\")\n",
    "\n",
    "    models.fit(X_known, Y_known)\n",
    "        \n",
    "    index2 = X_unknown.iloc[:min(testSize, len(X_unknown))].index\n",
    "    score = validate(models.predict(X_test), Y_test)\n",
    "    runningScore.append(score)\n",
    "    X_known, Y_known, X_unknown, Y_unknown = getPI((X_known, Y_known), (X_unknown, Y_unknown), index2[:testSize])"
   ]
  },
  {
   "cell_type": "code",
   "execution_count": 10,
   "metadata": {},
   "outputs": [
    {
     "data": {
      "text/plain": [
       "[<matplotlib.lines.Line2D at 0x7f59170c0e80>]"
      ]
     },
     "execution_count": 10,
     "metadata": {},
     "output_type": "execute_result"
    },
    {
     "data": {
      "image/png": "[encoded data removed]",
      "text/plain": [
       "<Figure size 432x288 with 1 Axes>"
      ]
     },
     "metadata": {},
     "output_type": "display_data"
    }
   ],
   "source": [
    "mlt.plot(runningScore)"
   ]
  }
 ],
 "metadata": {
  "interpreter": {
   "hash": "e7370f93d1d0cde622a1f8e1c04877d8463912d04d973331ad4851f04de6915a"
  },
  "kernelspec": {
   "display_name": "Python 3.8.10 64-bit",
   "language": "python",
   "name": "python3"
  },
  "language_info": {
   "codemirror_mode": {
    "name": "ipython",
    "version": 3
   },
   "file_extension": ".py",
   "mimetype": "text/x-python",
   "name": "python",
   "nbconvert_exporter": "python",
   "pygments_lexer": "ipython3",
   "version": "3.8.10"
  },
  "orig_nbformat": 4
 },
 "nbformat": 4,
 "nbformat_minor": 2
}
